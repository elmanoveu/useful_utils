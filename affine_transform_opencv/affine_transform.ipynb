{
 "cells": [
  {
   "cell_type": "code",
   "execution_count": 1,
   "id": "b9c75032",
   "metadata": {},
   "outputs": [],
   "source": [
    "import ipywidgets as widgets\n",
    "from ipywidgets import interact\n",
    "import numpy as np\n",
    "import json\n",
    "import cv2\n",
    "import matplotlib.pyplot as plt\n",
    "import os\n",
    "from mpl_toolkits.mplot3d import Axes3D"
   ]
  },
  {
   "cell_type": "markdown",
   "id": "a8e44180",
   "metadata": {},
   "source": [
    "#### Matrix representation\n",
    "\n",
    "* Scaling matrix\n",
    "\n",
    "$$ S = \\begin{pmatrix}\\ sx & 0 & 0 \\\\ 0 & sy & 0 \\\\ 0 & 0 & sz\\end{pmatrix}$$  \n",
    "\n",
    "* Translation matrix  \n",
    "\n",
    "$$ T = \\begin{pmatrix}\\ 1 & 0 & 0 \\\\ 0 & 1 & 0 \\\\ tx & ty & 1\\end{pmatrix}$$  "
   ]
  },
  {
   "cell_type": "code",
   "execution_count": 4,
   "id": "94fa1ba6",
   "metadata": {},
   "outputs": [
    {
     "data": {
      "application/vnd.jupyter.widget-view+json": {
       "model_id": "b14dee3ce13948ce9688396e32cc517c",
       "version_major": 2,
       "version_minor": 0
      },
      "text/plain": [
       "interactive(children=(IntSlider(value=0, description='frame', max=1), IntSlider(value=50, description='shx', m…"
      ]
     },
     "metadata": {},
     "output_type": "display_data"
    }
   ],
   "source": [
    "shX,shY=np.linspace(-1,1,100),np.linspace(-1,1,100)\n",
    "shzx=np.linspace(10**(-5),10**(-2),100)\n",
    "shzy=np.linspace(10**(-5),10**(-2),100)\n",
    "scale=np.array(list(range(-11,21)))\n",
    "scale_x,scale_y,scale_z=scale/10,scale/10,scale/10\n",
    "img_path='images/'\n",
    "sorted_shots=sorted(os.listdir(img_path),key=lambda x: int(os.path.splitext(x)[0])) \n",
    "\n",
    "@interact(frame=(0,len(sorted_shots)),x=(0,99),y=(0,99),zx=(0,99),\n",
    "          zy=(0,99),sc_x=(0,len(scale)-1),sc_y=(0,len(scale)-1),sc_z=(0,len(scale)-1))\n",
    "def show_frame(frame=0,shx=50,shy=50,zx=0,zy=0,sc_x=1,sc_y=1,sc_z=1):\n",
    "  f = plt.figure(figsize=(10,6))\n",
    "  h,w,_=cv2.imread(img_path+sorted_shots[frame]).shape\n",
    " \n",
    "  \n",
    "  M = np.float32([[scale_x[sc_x], shX[shx],0], [shY[shy],scale_y[sc_y],0],\n",
    "                  [shzx[zx], shzy[zy], scale_z[sc_z]]])\n",
    "  print(scale_x[sc_x],scale_y[sc_y],scale_z[sc_z])\n",
    "  dst = cv2.warpPerspective(cv2.imread(img_path+sorted_shots[frame]), M, (w, h))\n",
    "\n",
    "  plt.scatter(w//2,h//2,c='red',marker='+')\n",
    "  \n",
    "  plt.imshow(cv2.cvtColor(dst,cv2.COLOR_RGB2BGR))\n",
    "  \n",
    "  plt.show()"
   ]
  },
  {
   "cell_type": "code",
   "execution_count": null,
   "id": "85e23005",
   "metadata": {},
   "outputs": [],
   "source": []
  }
 ],
 "metadata": {
  "kernelspec": {
   "display_name": "Python 3",
   "language": "python",
   "name": "python3"
  },
  "language_info": {
   "codemirror_mode": {
    "name": "ipython",
    "version": 3
   },
   "file_extension": ".py",
   "mimetype": "text/x-python",
   "name": "python",
   "nbconvert_exporter": "python",
   "pygments_lexer": "ipython3",
   "version": "3.9.7"
  }
 },
 "nbformat": 4,
 "nbformat_minor": 5
}
